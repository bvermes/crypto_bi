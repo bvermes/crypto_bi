{
 "cells": [
  {
   "cell_type": "markdown",
   "id": "bee9a123",
   "metadata": {},
   "source": [
    "# Init"
   ]
  },
  {
   "cell_type": "code",
   "execution_count": null,
   "id": "f603fccb",
   "metadata": {},
   "outputs": [],
   "source": [
    "from data.datasource.tv_data_feed_api import get_data\n",
    "from tvDatafeed import TvDatafeed, Interval\n",
    "import requests\n",
    "\n",
    "import os\n",
    "from datetime import datetime\n",
    "from openpyxl import Workbook, load_workbook\n",
    "import time\n",
    "import pandas as pd\n",
    "import matplotlib.pyplot as plt\n",
    "\n",
    "import business.utils.trading_signals as ts\n",
    "import business.utils.trading_indicators as ti\n",
    "\n",
    "LOG_FILE = r\"F:\\Desktop\\git\\crypto_bi\\log.xlsx\"\n",
    "\n",
    "\n",
    "# historical_data = get_data(symbol=\"BTCUSDT\", exchange=\"BINANCE\", interval=Interval.in_1_hour, n_bars=100000)\n",
    "# historical_data"
   ]
  },
  {
   "cell_type": "code",
   "execution_count": 5,
   "id": "6eccf8bc",
   "metadata": {},
   "outputs": [],
   "source": [
    "def send_notification(message):\n",
    "    # Replace these with your actual Pushover API token and user key\n",
    "    app_token = 'acgrip2rbsfh6cdnghafcc922btrht'  # e.g., \"a1b2c3d4e5f6g7h8i9j0\"\n",
    "    user_key = 'ucj8xoq8a275k5g7cn6nh91sdfk53m'    # e.g., \"u1v2w3x4y5z6\"\n",
    "\n",
    "    # Prepare the payload with a loud sound ('siren' is one example)\n",
    "    payload = {\n",
    "        'token': app_token,\n",
    "        'user': user_key,\n",
    "        'message': message,\n",
    "        'sound': 'siren',  # Change this to any sound of your choice\n",
    "        'priority': 1      # priority 1 or 2 can trigger an alert mode on some devices\n",
    "    }\n",
    "    \n",
    "    # Send the POST request to Pushover\n",
    "    response = requests.post(\"https://api.pushover.net/1/messages.json\", data=payload)\n",
    "    \n",
    "    if response.status_code == 200:\n",
    "        print(\"Notification sent successfully!\")\n",
    "    else:\n",
    "        print(\"Failed to send notification. Response:\", response.text)\n"
   ]
  },
  {
   "cell_type": "code",
   "execution_count": 6,
   "id": "c957bb73",
   "metadata": {},
   "outputs": [],
   "source": [
    "def log_to_excel(timestamp, symbol, status, message, log_file=LOG_FILE):\n",
    "    # If the log file doesn't exist, create it with headers\n",
    "    if not os.path.exists(log_file):\n",
    "        wb = Workbook()\n",
    "        ws = wb.active\n",
    "        ws.title = \"Log\"\n",
    "        # Write header row\n",
    "        ws.append([\"Timestamp\", \"Symbol\", \"Status\", \"Message\"])\n",
    "        wb.save(log_file)\n",
    "    \n",
    "    # Load the existing workbook and append a new row\n",
    "    wb = load_workbook(log_file)\n",
    "    ws = wb.active\n",
    "    ws.append([timestamp, symbol, status, message])\n",
    "    wb.save(log_file)\n"
   ]
  },
  {
   "cell_type": "markdown",
   "id": "099feebc",
   "metadata": {},
   "source": [
    "# Live Signal Multiple Stocks"
   ]
  },
  {
   "cell_type": "code",
   "execution_count": 4,
   "id": "d8277927",
   "metadata": {},
   "outputs": [],
   "source": [
    "# List of symbols to monitor\n",
    "symbols = [\"BTCUSDT\", \"ETHUSDT\"]\n",
    "\n",
    "check_signals = [ts.very_low_price,\n",
    "                    #very_high_price\n",
    "                    ]"
   ]
  },
  {
   "cell_type": "code",
   "execution_count": 5,
   "id": "fe171f01",
   "metadata": {},
   "outputs": [],
   "source": [
    "def run_checks_and_notify(price_threshold):\n",
    "    for symbol in symbols:\n",
    "        # Retrieve data for the symbol (adjust parameters as needed)\n",
    "        df = get_data(\n",
    "            symbol=symbol,\n",
    "            exchange=\"BINANCE\",\n",
    "            interval=Interval.in_1_hour,\n",
    "            n_bars=100\n",
    "        )\n",
    "        \n",
    "        # Run each check function on the data\n",
    "        for check_func in check_signals:\n",
    "            status, message = check_func(symbol, df, price_threshold)\n",
    "            current_time = datetime.now().strftime(\"%Y-%m-%d %H:%M:%S\")\n",
    "            log_to_excel(current_time, symbol, status, message)\n",
    "            if status:\n",
    "                send_notification(message)\n"
   ]
  },
  {
   "cell_type": "code",
   "execution_count": 6,
   "id": "abf54dc3",
   "metadata": {},
   "outputs": [],
   "source": [
    "run_checks_and_notify(price_threshold=2560)"
   ]
  }
 ],
 "metadata": {
  "kernelspec": {
   "display_name": "base",
   "language": "python",
   "name": "python3"
  },
  "language_info": {
   "codemirror_mode": {
    "name": "ipython",
    "version": 3
   },
   "file_extension": ".py",
   "mimetype": "text/x-python",
   "name": "python",
   "nbconvert_exporter": "python",
   "pygments_lexer": "ipython3",
   "version": "3.11.7"
  }
 },
 "nbformat": 4,
 "nbformat_minor": 5
}
