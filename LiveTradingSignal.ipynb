{
 "cells": [
  {
   "cell_type": "markdown",
   "id": "0",
   "metadata": {},
   "source": [
    "# Init"
   ]
  },
  {
   "cell_type": "code",
   "execution_count": null,
   "id": "1",
   "metadata": {},
   "outputs": [],
   "source": [
    "from data.datasource.tv_data_feed_api import get_data\n",
    "from tvDatafeed import TvDatafeed, Interval\n",
    "import requests\n",
    "\n",
    "import os\n",
    "from datetime import datetime\n",
    "from openpyxl import Workbook, load_workbook\n",
    "import time\n",
    "import pandas as pd\n",
    "import matplotlib.pyplot as plt\n",
    "\n",
    "import business.utils.trading_signals as ts\n",
    "import data.datasource.binance_api as ba\n",
    "LOG_FILE = os.path.join(os.getcwd() , \"log.xlsx\")\n",
    "from dotenv import load_dotenv\n",
    "\n",
    "load_dotenv()\n",
    "\n",
    "\n",
    "# historical_data = get_data(symbol=\"BTCUSDT\", exchange=\"BINANCE\", interval=Interval.in_1_hour, n_bars=100000)\n",
    "# historical_data"
   ]
  },
  {
   "cell_type": "code",
   "execution_count": null,
   "id": "2",
   "metadata": {},
   "outputs": [],
   "source": [
    "def send_notification(message):\n",
    "    # Replace these with your actual Pushover API token and user key\n",
    "    app_token = os.getenv('NOTIFICATION_TOKEN')  # e.g., \"a1b2c3d4e5f6g7h8i9j0\"\n",
    "    user_key = os.getenv('NOTIFICATION_USER_KEY')    # e.g., \"u1v2w3x4y5z6\"\n",
    "\n",
    "    # Prepare the payload with a loud sound ('siren' is one example)\n",
    "    payload = {\n",
    "        'token': app_token,\n",
    "        'user': user_key,\n",
    "        'message': message,\n",
    "        'sound': 'siren',  # Change this to any sound of your choice\n",
    "        'priority': 1      # priority 1 or 2 can trigger an alert mode on some devices\n",
    "    }\n",
    "    \n",
    "    # Send the POST request to Pushover\n",
    "    response = requests.post(\"https://api.pushover.net/1/messages.json\", data=payload)\n",
    "    \n",
    "    if response.status_code == 200:\n",
    "        print(\"Notification sent successfully!\")\n",
    "    else:\n",
    "        print(\"Failed to send notification. Response:\", response.text)\n"
   ]
  },
  {
   "cell_type": "code",
   "execution_count": null,
   "id": "3",
   "metadata": {},
   "outputs": [],
   "source": [
    "def log_to_excel(timestamp, symbol, status, message,notified_signal_value,check_func, log_file=LOG_FILE):\n",
    "    # If the log file doesn't exist, create it with headers\n",
    "    if not os.path.exists(log_file):\n",
    "        wb = Workbook()\n",
    "        ws = wb.active\n",
    "        ws.title = \"Log\"\n",
    "        # Write header row\n",
    "        ws.append([\"Timestamp\", \"Symbol\", \"Status\", \"Message\", \"Notified Signal Value\", \"Check Function\"])\n",
    "        wb.save(log_file)\n",
    "    \n",
    "    # Load the existing workbook and append a new row\n",
    "    wb = load_workbook(log_file)\n",
    "    ws = wb.active\n",
    "    # If check_func is a function, log its name\n",
    "    func_name = check_func.__name__ if callable(check_func) else check_func\n",
    "    ws.append([timestamp, symbol, status, message, notified_signal_value, func_name])\n",
    "    wb.save(log_file)\n"
   ]
  },
  {
   "cell_type": "markdown",
   "id": "4",
   "metadata": {},
   "source": [
    "# Live Signal Multiple Stocks"
   ]
  },
  {
   "cell_type": "code",
   "execution_count": null,
   "id": "5",
   "metadata": {},
   "outputs": [],
   "source": [
    "# List of symbols to monitor\n",
    "symbols = [\"BTCUSDT\", \n",
    "           #\"ETHUSDT\"\n",
    "           ]\n",
    "\n",
    "check_signals = [ts.very_low_price,\n",
    "                    ts.very_high_price\n",
    "                    ]"
   ]
  },
  {
   "cell_type": "code",
   "execution_count": null,
   "id": "6",
   "metadata": {},
   "outputs": [],
   "source": [
    "def run_checks_and_notify():\n",
    "    for symbol in symbols:\n",
    "        # Retrieve data for the symbol (adjust parameters as needed)\n",
    "        data = ba.get_binance_klines(symbol=symbol, interval='1m', limit=100)\n",
    "        df = pd.DataFrame(data, columns=[\n",
    "            \"timestamp\", \"open\", \"high\", \"low\", \"close\", \"volume\",\n",
    "            \"close_time\", \"quote_asset_volume\", \"number_of_trades\",\n",
    "            \"taker_buy_base_asset_volume\", \"taker_buy_quote_asset_volume\", \"ignore\"\n",
    "        ])\n",
    "        df[\"timestamp\"] = pd.to_datetime(df[\"timestamp\"], unit='ms')\n",
    "        \"\"\"\n",
    "        get_data(\n",
    "            symbol=symbol,\n",
    "            exchange=\"BINANCE\",\n",
    "            interval=Interval.in_1_hour,\n",
    "            n_bars=1000\n",
    "        )\n",
    "        \"\"\"\n",
    "        df['open'] = df['open'].astype(float)\n",
    "        df['high'] = df['high'].astype(float)\n",
    "        df['low'] = df['low'].astype(float)\n",
    "        df['close'] = df['close'].astype(float)\n",
    "        df['volume'] = df['volume'].astype(float)\n",
    "        # print(df.info())\n",
    "        # Run each check function on the data\n",
    "        for check_func in check_signals:\n",
    "            if not os.path.exists(LOG_FILE):\n",
    "                wb = Workbook()\n",
    "                ws = wb.active\n",
    "                ws.title = \"Log\"\n",
    "                # Write header row\n",
    "                ws.append([\"Timestamp\", \"Symbol\", \"Status\", \"Message\", \"Notified Signal Value\", \"Check Function\"])\n",
    "                wb.save(LOG_FILE)\n",
    "\n",
    "            # Now load the log file into a DataFrame\n",
    "            log_df = pd.read_excel(LOG_FILE)\n",
    "            last_valid_row = log_df[\n",
    "                (log_df['Symbol'] == symbol) &\n",
    "                (log_df['Check Function'] == check_func.__name__) &\n",
    "                (log_df['Status'])\n",
    "            ].tail(1)\n",
    "            status, message, notified_signal_value = check_func(symbol, df, last_valid_row)\n",
    "            current_time = datetime.now().strftime(\"%Y-%m-%d %H:%M:%S\")\n",
    "            log_to_excel(current_time, symbol, status, message,notified_signal_value,check_func.__name__)\n",
    "            if status:\n",
    "                send_notification(message)\n"
   ]
  },
  {
   "cell_type": "code",
   "execution_count": null,
   "id": "7",
   "metadata": {},
   "outputs": [],
   "source": [
    "run_checks_and_notify()"
   ]
  },
  {
   "cell_type": "code",
   "execution_count": null,
   "id": "8",
   "metadata": {},
   "outputs": [],
   "source": []
  },
  {
   "cell_type": "code",
   "execution_count": null,
   "id": "9",
   "metadata": {},
   "outputs": [],
   "source": [
    "df"
   ]
  },
  {
   "cell_type": "code",
   "execution_count": null,
   "id": "10",
   "metadata": {},
   "outputs": [],
   "source": [
    "log_df = pd.read_excel(LOG_FILE)\n",
    "last_valid_row = log_df[\n",
    "    (log_df['Symbol'] == 'ETHUSDT') &\n",
    "    # (log_df['Check Function'] == '') &\n",
    "    (log_df['Status'] == False)\n",
    "].tail(1)"
   ]
  },
  {
   "cell_type": "code",
   "execution_count": null,
   "id": "11",
   "metadata": {},
   "outputs": [],
   "source": [
    "last_valid_row['Symbol'].values[0]"
   ]
  }
 ],
 "metadata": {
  "kernelspec": {
   "display_name": "base",
   "language": "python",
   "name": "python3"
  },
  "language_info": {
   "codemirror_mode": {
    "name": "ipython",
    "version": 3
   },
   "file_extension": ".py",
   "mimetype": "text/x-python",
   "name": "python",
   "nbconvert_exporter": "python",
   "pygments_lexer": "ipython3",
   "version": "3.11.5"
  }
 },
 "nbformat": 4,
 "nbformat_minor": 5
}
