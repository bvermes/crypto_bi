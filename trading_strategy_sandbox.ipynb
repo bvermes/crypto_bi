{
 "cells": [
  {
   "cell_type": "code",
   "execution_count": null,
   "metadata": {
    "vscode": {
     "languageId": "plaintext"
    }
   },
   "outputs": [],
   "source": [
    "\n",
    "df['RSI'], df['RSI_MA'] = ti.calculate_rsi_with_ma(df['close'], rsi_period=14, ma_type=\"SMA\", ma_length=14)\n",
    "df['MACD'], df['Signal'], df['MACD_Hist'] = ti.calculate_macd(df['close'], fast_period=12, slow_period=26, signal_period=9)\n",
    "df['BB_Mid'], df['BB_Upper'], df['BB_Lower'] = ti.calculate_bollinger_bands(df['close'], window=20, num_std=2)\n",
    "df['Stoch_K'], df['Stoch_D'] = ti.calculate_stochastic(df, k_period=14, d_period=3)\n",
    "\n"
   ]
  },
  {
   "cell_type": "code",
   "execution_count": null,
   "metadata": {
    "vscode": {
     "languageId": "plaintext"
    }
   },
   "outputs": [],
   "source": [
    "\n",
    "# Create subplots: one for the price and one for the RSI and its MA\n",
    "fig, (ax1, ax2) = plt.subplots(2, 1, figsize=(12, 8), sharex=True)\n",
    "\n",
    "# Top subplot: Plot the closing prices\n",
    "ax1.plot(df.index, df['close'], label='Closing Price', color='blue')\n",
    "ax1.set_ylabel('Price')\n",
    "ax1.set_title('Stock Price')\n",
    "ax1.legend()\n",
    "ax1.grid(True)\n",
    "\n",
    "# Bottom subplot: Plot the RSI and its moving average\n",
    "ax2.plot(df.index, df['RSI'], label='RSI', color='red')\n",
    "ax2.plot(df.index, df['RSI_MA'], label='RSI MA', color='orange')\n",
    "ax2.set_ylabel('RSI')\n",
    "ax2.set_xlabel('Day')\n",
    "ax2.set_title('RSI (14-period) with Moving Average')\n",
    "ax2.legend()\n",
    "ax2.grid(True)\n",
    "\n",
    "# Adjust layout to prevent overlapping and display the plot\n",
    "plt.tight_layout()\n",
    "plt.show()"
   ]
  },
  {
   "cell_type": "code",
   "execution_count": null,
   "metadata": {
    "vscode": {
     "languageId": "plaintext"
    }
   },
   "outputs": [],
   "source": [
    "fig, (ax1, ax2, ax3, ax4) = plt.subplots(4, 1, figsize=(12, 12), sharex=True)\n",
    "\n",
    "# --- Panel 1: Price with Bollinger Bands ---\n",
    "ax1.plot(df.index, df['close'], label='Closing Price', color='blue')\n",
    "ax1.plot(df.index, df['BB_Mid'], label='BB Mid', color='black', linestyle='--')\n",
    "ax1.plot(df.index, df['BB_Upper'], label='BB Upper', color='green', linestyle='--')\n",
    "ax1.plot(df.index, df['BB_Lower'], label='BB Lower', color='red', linestyle='--')\n",
    "ax1.set_ylabel('Price')\n",
    "ax1.set_title('Stock Price with Bollinger Bands')\n",
    "ax1.legend()\n",
    "ax1.grid(True)\n",
    "\n",
    "# --- Panel 2: RSI with its Moving Average ---\n",
    "ax2.plot(df.index, df['RSI'], label='RSI', color='red')\n",
    "ax2.plot(df.index, df['RSI_MA'], label='RSI MA', color='orange')\n",
    "ax2.set_ylabel('RSI')\n",
    "ax2.set_title('RSI (14) with Moving Average')\n",
    "ax2.legend()\n",
    "ax2.grid(True)\n",
    "\n",
    "# --- Panel 3: MACD ---\n",
    "ax3.plot(df.index, df['MACD'], label='MACD', color='blue')\n",
    "ax3.plot(df.index, df['Signal'], label='Signal', color='orange')\n",
    "# Plot histogram as bars\n",
    "ax3.bar(df.index, df['MACD_Hist'], label='Histogram', color='grey', alpha=0.3)\n",
    "ax3.set_ylabel('MACD')\n",
    "ax3.set_title('MACD (12,26,9)')\n",
    "ax3.legend()\n",
    "ax3.grid(True)\n",
    "\n",
    "# --- Panel 4: Stochastic Oscillator ---\n",
    "ax4.plot(df.index, df['Stoch_K'], label='%K', color='purple')\n",
    "ax4.plot(df.index, df['Stoch_D'], label='%D', color='brown')\n",
    "ax4.set_ylabel('Stochastic')\n",
    "ax4.set_title('Stochastic Oscillator (14,3)')\n",
    "ax4.set_xlabel('Date')\n",
    "ax4.legend()\n",
    "ax4.grid(True)\n",
    "\n",
    "plt.tight_layout()\n",
    "plt.show()"
   ]
  }
 ],
 "metadata": {
  "language_info": {
   "name": "python"
  }
 },
 "nbformat": 4,
 "nbformat_minor": 2
}
